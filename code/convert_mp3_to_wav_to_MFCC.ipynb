{
 "cells": [
  {
   "cell_type": "markdown",
   "metadata": {},
   "source": [
    "Install Dependencies"
   ]
  },
  {
   "cell_type": "code",
   "execution_count": 1,
   "metadata": {
    "collapsed": false
   },
   "outputs": [
    {
     "name": "stdout",
     "output_type": "stream",
     "text": [
      "Collecting python_speech_features\n",
      "  Downloading https://files.pythonhosted.org/packages/ff/d1/94c59e20a2631985fbd2124c45177abaa9e0a4eee8ba8a305aa26fc02a8e/python_speech_features-0.6.tar.gz\n",
      "Building wheels for collected packages: python-speech-features\n",
      "  Building wheel for python-speech-features (setup.py) ... \u001b[?25l-\b \b\\\b \b|\b \bdone\n",
      "\u001b[?25h  Created wheel for python-speech-features: filename=python_speech_features-0.6-cp35-none-any.whl size=5888 sha256=2888096feb2550f152e2991b8ab19aa5b8a5821172bd81500c4fa479cf5b0639\n",
      "  Stored in directory: /Users/samirazarandioon/Library/Caches/pip/wheels/3c/42/7c/f60e9d1b40015cd69b213ad90f7c18a9264cd745b9888134be\n",
      "Successfully built python-speech-features\n",
      "Installing collected packages: python-speech-features\n",
      "Successfully installed python-speech-features-0.6\n",
      "\u001b[33mWARNING: You are using pip version 19.3.1; however, version 20.1.1 is available.\n",
      "You should consider upgrading via the 'pip install --upgrade pip' command.\u001b[0m\n"
     ]
    }
   ],
   "source": [
    "#!pip install python_speech_features\n",
    "#!brew install ffmpeg\n",
    "#!pip install pydub"
   ]
  },
  {
   "cell_type": "markdown",
   "metadata": {
    "collapsed": false
   },
   "source": [
    "Get the list of all supported languages"
   ]
  },
  {
   "cell_type": "code",
   "execution_count": 1,
   "metadata": {
    "collapsed": false
   },
   "outputs": [
    {
     "name": "stdout",
     "output_type": "stream",
     "text": [
      "['en']\n"
     ]
    }
   ],
   "source": [
    "import glob\n",
    "import os\n",
    "input_dir=\"data\"\n",
    "\n",
    "all_langs = [os.path.basename(dir) for dir in glob.glob(input_dir + \"/mp3/*\")]\n",
    "\n",
    "print(all_langs)"
   ]
  },
  {
   "cell_type": "markdown",
   "metadata": {},
   "source": [
    "Convert MP3 files to WAV format"
   ]
  },
  {
   "cell_type": "code",
   "execution_count": 2,
   "metadata": {
    "collapsed": false
   },
   "outputs": [],
   "source": [
    "import random\n",
    "from pydub import AudioSegment\n",
    "from pathlib import Path\n",
    "\n",
    "sample_count = 100\n",
    "\n",
    "\n",
    "for lang in all_langs:\n",
    "    all_mp3s = glob.glob(input_dir + \"/mp3/\" + lang + \"/clips/*.mp3\")\n",
    "    random.shuffle(all_mp3s)\n",
    "    sample_mp3s = all_mp3s[0:sample_count]\n",
    "    for mp3_file in sample_mp3s:\n",
    "        mp3_file_name = os.path.splitext(os.path.basename(mp3_file))[0]\n",
    "        sound = AudioSegment.from_mp3(mp3_file)\n",
    "        wavs_dir = input_dir + \"/wav/\" + lang + \"/clips/\"\n",
    "        Path(wavs_dir).mkdir(parents=True, exist_ok=True)\n",
    "        sound.export(os.path.join(wavs_dir, mp3_file_name + \".wav\"), format=\"wav\")"
   ]
  },
  {
   "cell_type": "code",
   "execution_count": null,
   "metadata": {
    "collapsed": true
   },
   "outputs": [],
   "source": []
  },
  {
   "cell_type": "code",
   "execution_count": 3,
   "metadata": {
    "collapsed": false
   },
   "outputs": [
    {
     "name": "stdout",
     "output_type": "stream",
     "text": [
      "['ar', 'de', 'en', 'fa']\n"
     ]
    }
   ],
   "source": [
    "import glob\n",
    "import os\n",
    "input_dir=\"data\"\n",
    "\n",
    "all_langs = [os.path.basename(dir) for dir in glob.glob(input_dir + \"/wav/*\")]\n",
    "\n",
    "print(all_langs)"
   ]
  },
  {
   "cell_type": "code",
   "execution_count": 16,
   "metadata": {
    "collapsed": false
   },
   "outputs": [],
   "source": [
    "from python_speech_features import mfcc\n",
    "from python_speech_features import logfbank\n",
    "import scipy.io.wavfile as wav\n",
    "\n",
    "sample_count = 100\n",
    "\n",
    "with open(input_dir + \"/mfcc/lang_feature_file.csv\",'w') as f:\n",
    "    for lang in all_langs:\n",
    "        all_wavs = glob.glob(input_dir + \"/wav/\" + lang + \"/clips/*.wav\")\n",
    "        for wav_file in all_wavs:\n",
    "            wav_file_name = os.path.basename(wav_file)\n",
    "            (rate,sig) = wav.read(wav_file)\n",
    "            mfcc_feature = mfcc(sig,rate,nfft=1200)\n",
    "            f.write(\"%s, %s, %s\\n\" % (lang, wav_file_name, mfcc_feature.tolist()))\n"
   ]
  },
  {
   "cell_type": "code",
   "execution_count": null,
   "metadata": {
    "collapsed": true
   },
   "outputs": [],
   "source": []
  }
 ],
 "metadata": {
  "anaconda-cloud": {},
  "kernelspec": {
   "display_name": "Python [conda env:anaconda]",
   "language": "python",
   "name": "conda-env-anaconda-py"
  },
  "language_info": {
   "codemirror_mode": {
    "name": "ipython",
    "version": 3
   },
   "file_extension": ".py",
   "mimetype": "text/x-python",
   "name": "python",
   "nbconvert_exporter": "python",
   "pygments_lexer": "ipython3",
   "version": "3.5.6"
  }
 },
 "nbformat": 4,
 "nbformat_minor": 2
}
